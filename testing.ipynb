{
 "cells": [
  {
   "cell_type": "code",
   "execution_count": 49,
   "metadata": {
    "collapsed": false,
    "scrolled": true
   },
   "outputs": [
    {
     "name": "stdout",
     "output_type": "stream",
     "text": [
      "5\n",
      "waw\n",
      "waw\n",
      "waw\n",
      "wakwaw\n"
     ]
    },
    {
     "ename": "SystemExit",
     "evalue": "",
     "output_type": "error",
     "traceback": [
      "An exception has occurred, use %tb to see the full traceback.\n",
      "\u001b[0;31mSystemExit\u001b[0m\n"
     ]
    }
   ],
   "source": [
    "from bs4 import BeautifulSoup\n",
    "from socket import error as SocketError\n",
    "import urllib\n",
    "import pandas\n",
    "import re\n",
    "import requests\n",
    "import time\n",
    "import random\n",
    "import MySQLdb\n",
    "import sys\n",
    "\n",
    "result = ''\n",
    "counter = int(random.uniform(5, 15))\n",
    "print counter\n",
    "for count in range (1, counter):\n",
    "    if count <> (counter-1):\n",
    "        web = 'http://localhost/googleBlock/fake.html'\n",
    "        r = request.get(web)\n",
    "        scrape = BeautifulSoup(r.text, \"html,parser\")\n",
    "        fake = scrape.find()\n",
    "    else:\n",
    "        print 'wakwaw'\n",
    "sys.exit()\n",
    "tempUniv = \"Sekolah Tinggi Kelautan Dan Perikanan Indonesia\"\n",
    "#wt = random.uniform(10, 20)\n",
    "tempUniv = re.sub(\"[ ]\", '+', tempUniv)\n",
    "research_later = '\"'+tempUniv+'\"+site:http://forlap.dikti.go.id/perguruantinggi/detail/'\n",
    "goog_search = \"https://www.google.co.uk/search?sclient=psy-ab&client=ubuntu&hs=k5b&channel=fs&biw=1366&bih=648&noj=1&q=\" + research_later\n",
    "goog_search = \"http://localhost/googleBlock/tes.html\"\n",
    "r = requests.get(goog_search)\n",
    "#time.sleep(wt)\n",
    "scrapeGoogle = BeautifulSoup(r.text, \"html.parser\")\n",
    "#print scrapeGoogle\n",
    "#print \"=====\"\n",
    "googleBlock = scrapeGoogle.find(\"div\", {\"id\" : \"infoDiv\"})\n",
    "googleBlock = str(googleBlock)\n",
    "print googleBlock[139:145]\n",
    "if googleBlock[139:145] == \"Google\":\n",
    "    sys.exit('Block by Google')\n",
    "tempList = []\n",
    "for item in scrapeGoogle.findAll('a', href=True):\n",
    "    item = str(item['href'])\n",
    "    if len(item) > 104:\n",
    "        tempList.append(item[7:104])\n",
    "\n",
    "tempTempList = []\n",
    "for item in tempList:\n",
    "    if item[0:49] == \"http://forlap.dikti.go.id/perguruantinggi/detail/\":\n",
    "        tempTempList.append(item)\n",
    "result = tempTempList[0]\n",
    "print result"
   ]
  }
 ],
 "metadata": {
  "anaconda-cloud": {},
  "kernelspec": {
   "display_name": "Python [default]",
   "language": "python",
   "name": "python2"
  },
  "language_info": {
   "codemirror_mode": {
    "name": "ipython",
    "version": 2
   },
   "file_extension": ".py",
   "mimetype": "text/x-python",
   "name": "python",
   "nbconvert_exporter": "python",
   "pygments_lexer": "ipython2",
   "version": "2.7.12"
  }
 },
 "nbformat": 4,
 "nbformat_minor": 1
}
