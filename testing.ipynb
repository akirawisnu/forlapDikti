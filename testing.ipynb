{
 "cells": [
  {
   "cell_type": "code",
   "execution_count": 1,
   "metadata": {
    "collapsed": false
   },
   "outputs": [
    {
     "name": "stdout",
     "output_type": "stream",
     "text": [
      "<!DOCTYPE html PUBLIC \"-//W3C//DTD HTML 4.01 Transitional//EN\">\n",
      "\n",
      "<html>\n",
      "<head><meta content=\"text/html; charset=utf-8\" http-equiv=\"content-type\"><meta content=\"initial-scale=1\" name=\"viewport\"><title>https://www.google.co.uk/search?sclient=psy-ab&amp;client=ubuntu&amp;hs=k5b&amp;channel=fs&amp;biw=1366&amp;bih=648&amp;noj=1&amp;q=%22Sekolah+Tinggi+Kelautan+Dan+Perikanan+Indonesia%22+site:http://forlap.dikti.go.id/perguruantinggi/detail/</title></meta></meta></head>\n",
      "<body onload=\"e=document.getElementById('captcha');if(e){e.focus();}\" style=\"font-family: arial, sans-serif; background-color: #fff; color: #000; padding:20px; font-size:18px;\">\n",
      "<div style=\"max-width:400px;\">\n",
      "<hr noshade=\"\" size=\"1\" style=\"color:#ccc; background-color:#ccc;\"><br>\n",
      "<form action=\"index\" method=\"get\">\n",
      "To continue, please type the characters below:<br><br>\n",
      "<img alt=\"Please enable images\" border=\"1\" src=\"/sorry/image?id=8527952567103379906&amp;q=EgR2iNRGGLbS8MQFIhkA8aeDSxirbwltF5Vlp7B86gwmpE2Q56A8MgFj&amp;hl=en&amp;continue=https://www.google.co.uk/search%3Fsclient%3Dpsy-ab%26client%3Dubuntu%26hs%3Dk5b%26channel%3Dfs%26biw%3D1366%26bih%3D648%26noj%3D1%26q%3D%2522Sekolah%2BTinggi%2BKelautan%2BDan%2BPerikanan%2BIndonesia%2522%2Bsite:http://forlap.dikti.go.id/perguruantinggi/detail/\"><br><br>\n",
      "<input id=\"captcha\" name=\"captcha\" size=\"12\" style=\"font-size:16px; padding:3px 0 3px 5px; margin-left:0px;\" type=\"text\" value=\"\">\n",
      "<input name=\"q\" type=\"hidden\" value=\"EgR2iNRGGLbS8MQFIhkA8aeDSxirbwltF5Vlp7B86gwmpE2Q56A8MgFj\"><input name=\"continue\" type=\"hidden\" value=\"https://www.google.co.uk/search?sclient=psy-ab&amp;client=ubuntu&amp;hs=k5b&amp;channel=fs&amp;biw=1366&amp;bih=648&amp;noj=1&amp;q=%22Sekolah+Tinggi+Kelautan+Dan+Perikanan+Indonesia%22+site:http://forlap.dikti.go.id/perguruantinggi/detail/\">\n",
      "<input name=\"submit\" style=\"font-size:18px; padding:4px 0;\" type=\"submit\" value=\"Submit\"><br><br><br>\n",
      "</br></br></br></input></input></input></input></br></br></img></br></br></form>\n",
      "<hr noshade=\"\" size=\"1\" style=\"color:#ccc; background-color:#ccc;\">\n",
      "<div style=\"font-size:13px;\">\n",
      "<b>About this page</b><br><br>Our systems have detected unusual traffic from your computer network.  This page checks to see if it's really you sending the requests, and not a robot.  <a href=\"#\" onclick=\"document.getElementById('infoDiv').style.display='block';\">Why did this happen?</a><br><br>\n",
      "<div id=\"infoDiv\" style=\"display:none; background-color:#eee; padding:10px; margin:0 0 15px 0; line-height:1.4em;\">\n",
      "This page appears when Google automatically detects requests coming from your computer network which appear to be in violation of the <a href=\"//www.google.com/policies/terms/\">Terms of Service</a>. The block will expire shortly after those requests stop.  In the meantime, solving the above CAPTCHA will let you continue to use our services.<br><br>This traffic may have been sent by malicious software, a browser plug-in, or a script that sends automated requests.  If you share your network connection, ask your administrator for help — a different computer using the same IP address may be responsible.  <a href=\"//support.google.com/websearch/answer/86640\">Learn more</a><br><br>Sometimes you may be asked to solve the CAPTCHA if you are using advanced terms that robots are known to use, or sending requests very quickly.\n",
      "</br></br></br></br></div>\n",
      "\n",
      "IP address: 118.136.212.70<br>Time: 2017-02-09T08:32:55Z<br>URL: https://www.google.co.uk/search?sclient=psy-ab&amp;client=ubuntu&amp;hs=k5b&amp;channel=fs&amp;biw=1366&amp;bih=648&amp;noj=1&amp;q=%22Sekolah+Tinggi+Kelautan+Dan+Perikanan+Indonesia%22+site:http://forlap.dikti.go.id/perguruantinggi/detail/<br>\n",
      "</br></br></br></br></br></br></br></div>\n",
      "</hr></br></hr></div>\n",
      "</body>\n",
      "</html>\n",
      "\n"
     ]
    },
    {
     "ename": "IndexError",
     "evalue": "list index out of range",
     "output_type": "error",
     "traceback": [
      "\u001b[0;31m---------------------------------------------------------------------------\u001b[0m",
      "\u001b[0;31mIndexError\u001b[0m                                Traceback (most recent call last)",
      "\u001b[0;32m<ipython-input-1-9de6a573239a>\u001b[0m in \u001b[0;36m<module>\u001b[0;34m()\u001b[0m\n\u001b[1;32m     30\u001b[0m     \u001b[0;32mif\u001b[0m \u001b[0mitem\u001b[0m\u001b[0;34m[\u001b[0m\u001b[0;36m0\u001b[0m\u001b[0;34m:\u001b[0m\u001b[0;36m49\u001b[0m\u001b[0;34m]\u001b[0m \u001b[0;34m==\u001b[0m \u001b[0;34m\"http://forlap.dikti.go.id/perguruantinggi/detail/\"\u001b[0m\u001b[0;34m:\u001b[0m\u001b[0;34m\u001b[0m\u001b[0m\n\u001b[1;32m     31\u001b[0m         \u001b[0mtempTempList\u001b[0m\u001b[0;34m.\u001b[0m\u001b[0mappend\u001b[0m\u001b[0;34m(\u001b[0m\u001b[0mitem\u001b[0m\u001b[0;34m)\u001b[0m\u001b[0;34m\u001b[0m\u001b[0m\n\u001b[0;32m---> 32\u001b[0;31m \u001b[0mresult\u001b[0m \u001b[0;34m=\u001b[0m \u001b[0mtempTempList\u001b[0m\u001b[0;34m[\u001b[0m\u001b[0;36m0\u001b[0m\u001b[0;34m]\u001b[0m\u001b[0;34m\u001b[0m\u001b[0m\n\u001b[0m",
      "\u001b[0;31mIndexError\u001b[0m: list index out of range"
     ]
    }
   ],
   "source": [
    "from bs4 import BeautifulSoup\n",
    "from socket import error as SocketError\n",
    "import urllib\n",
    "import pandas\n",
    "import re\n",
    "import requests\n",
    "import time\n",
    "import random\n",
    "import MySQLdb\n",
    "import sys\n",
    "\n",
    "result = ''\n",
    "tempUniv = \"Sekolah Tinggi Kelautan Dan Perikanan Indonesia\"\n",
    "#wt = random.uniform(10, 20)\n",
    "tempUniv = re.sub(\"[ ]\", '+', tempUniv)\n",
    "research_later = '\"'+tempUniv+'\"+site:http://forlap.dikti.go.id/perguruantinggi/detail/'\n",
    "goog_search = \"https://www.google.co.uk/search?sclient=psy-ab&client=ubuntu&hs=k5b&channel=fs&biw=1366&bih=648&noj=1&q=\" + research_later\n",
    "r = requests.get(goog_search)\n",
    "#time.sleep(wt)\n",
    "scrapeGoogle = BeautifulSoup(r.text, \"html.parser\")\n",
    "print scrapeGoogle\n",
    "tempList = []\n",
    "for item in scrapeGoogle.findAll('a', href=True):\n",
    "    item = str(item['href'])\n",
    "    if len(item) > 104:\n",
    "        tempList.append(item[7:104])\n",
    "\n",
    "tempTempList = []\n",
    "for item in tempList:\n",
    "    if item[0:49] == \"http://forlap.dikti.go.id/perguruantinggi/detail/\":\n",
    "        tempTempList.append(item)\n",
    "result = tempTempList[0]"
   ]
  }
 ],
 "metadata": {
  "anaconda-cloud": {},
  "kernelspec": {
   "display_name": "Python [default]",
   "language": "python",
   "name": "python2"
  },
  "language_info": {
   "codemirror_mode": {
    "name": "ipython",
    "version": 2
   },
   "file_extension": ".py",
   "mimetype": "text/x-python",
   "name": "python",
   "nbconvert_exporter": "python",
   "pygments_lexer": "ipython2",
   "version": "2.7.12"
  }
 },
 "nbformat": 4,
 "nbformat_minor": 1
}
